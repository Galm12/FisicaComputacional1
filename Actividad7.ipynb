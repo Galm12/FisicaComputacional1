{
  "nbformat": 4,
  "nbformat_minor": 0,
  "metadata": {
    "colab": {
      "name": "Actividad7.ipynb",
      "provenance": [],
      "collapsed_sections": []
    },
    "kernelspec": {
      "name": "python3",
      "display_name": "Python 3"
    },
    "language_info": {
      "name": "python"
    }
  },
  "cells": [
    {
      "cell_type": "markdown",
      "metadata": {
        "id": "nN-X8LHksxsn"
      },
      "source": [
        "# Actividad 7\n",
        "\n",
        "Revisaremos los elementos básicos del Álgebra Lineal: vectores, matrices, y las operaciones básicas entre ellos. "
      ]
    },
    {
      "cell_type": "markdown",
      "metadata": {
        "id": "qAMcuGE_tFFN"
      },
      "source": [
        "###Biblotecas utilizadas"
      ]
    },
    {
      "cell_type": "code",
      "metadata": {
        "id": "p4yPdyIC8mMn"
      },
      "source": [
        "import numpy as np\n",
        "import scipy.linalg as la\n",
        "from numpy.linalg import matrix_power as mpow\n",
        "\n",
        "import matplotlib.pyplot as plt\n",
        "%matplotlib inline"
      ],
      "execution_count": 2,
      "outputs": []
    },
    {
      "cell_type": "markdown",
      "metadata": {
        "id": "3rUK64CA_wfF"
      },
      "source": [
        "**Ejercicio 1.**\n",
        "Defina las siguientes matrices."
      ]
    },
    {
      "cell_type": "code",
      "metadata": {
        "colab": {
          "base_uri": "https://localhost:8080/"
        },
        "id": "kHoJanYr8yQt",
        "outputId": "f5b4d8c7-4117-4273-9e15-a8ef9df6b838"
      },
      "source": [
        "A = np.array([[1, 3],[-1, 7]])\n",
        "B = np.array([[5, 2],[1, 2]])\n",
        "I = np.eye(2, dtype=int)\n",
        "print(f\"A={A}\")\n",
        "print()\n",
        "print(f\"B={B}\")\n",
        "print()\n",
        "print(f\"I={I}\")"
      ],
      "execution_count": 3,
      "outputs": [
        {
          "output_type": "stream",
          "text": [
            "A=[[ 1  3]\n",
            " [-1  7]]\n",
            "\n",
            "B=[[5 2]\n",
            " [1 2]]\n",
            "\n",
            "I=[[1 0]\n",
            " [0 1]]\n"
          ],
          "name": "stdout"
        }
      ]
    },
    {
      "cell_type": "code",
      "metadata": {
        "colab": {
          "base_uri": "https://localhost:8080/"
        },
        "id": "PST5Lg0a84I1",
        "outputId": "ccec864c-ca0e-44fe-f120-4ad1e5f7d6da"
      },
      "source": [
        "M = (2*I)+(3*A)+(A@B)\n",
        "print(f\"M={M}\")"
      ],
      "execution_count": 4,
      "outputs": [
        {
          "output_type": "stream",
          "text": [
            "M=[[13 17]\n",
            " [-1 35]]\n"
          ],
          "name": "stdout"
        }
      ]
    },
    {
      "cell_type": "markdown",
      "metadata": {
        "id": "c_kHYLm7_zxv"
      },
      "source": [
        "**Ejercicio 2.**\n",
        "Los polinomios característicos y el Teorema de Cayley-Hamilton."
      ]
    },
    {
      "cell_type": "code",
      "metadata": {
        "colab": {
          "base_uri": "https://localhost:8080/"
        },
        "id": "NtuO9InY87ub",
        "outputId": "c5938547-d9f3-481f-dfb4-00a486d8b461"
      },
      "source": [
        "M = np.array([[1, 3],[-1, 7]])\n",
        "I = np.eye(2, dtype=int)\n",
        "\n",
        "#CALCULANDO EL DETERMINANTE DE LA MATRIZ M\n",
        "det = la.det(M)\n",
        "\n",
        "#CALCULANDO LA TRAZA DE M\n",
        "tr = np.trace(M)\n",
        "\n",
        "#TEROMA DE CAYLEY-HAMILTON\n",
        "P2 = (det*I) - (tr*M) + (mpow(M,2))\n",
        "\n",
        "print(\"Determinante : \",det)\n",
        "print()\n",
        "print(\"Traza: \", tr)\n",
        "print()\n",
        "print(\"Matriz Caracteristica: \")\n",
        "print()\n",
        "print( P2 )"
      ],
      "execution_count": 5,
      "outputs": [
        {
          "output_type": "stream",
          "text": [
            "Determinante :  10.0\n",
            "\n",
            "Traza:  8\n",
            "\n",
            "Matriz Caracteristica: \n",
            "\n",
            "[[0. 0.]\n",
            " [0. 0.]]\n"
          ],
          "name": "stdout"
        }
      ]
    },
    {
      "cell_type": "markdown",
      "metadata": {
        "id": "EoRZRfK1_-Zf"
      },
      "source": [
        "**Ejercicio 3:**\n",
        "Resuelva el sistema de ecuaciones.\n",
        "\n",
        "![image.png](data:image/png;base64,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)\n",
        "\n",
        "\n",
        "Utilizando el Método de Eliminación Gaussiana y la función scipy.linalg.solve()"
      ]
    },
    {
      "cell_type": "code",
      "metadata": {
        "id": "HMFfGmHT8-MS"
      },
      "source": [
        "#DEFINICION DE FUNCIONES PARA LA RESOLUCION GAUSSIANA\n",
        "#DEFINIMOS 3 FUNCIONES\n",
        "\n",
        "#INTERCAMBIO DE POSICION DE RENGLONES\n",
        "def switch_rows(A,i,j):\n",
        "    \"Intercambiar renglones i y j en la matriz A.\"\n",
        "    n = A.shape[0]\n",
        "    E = np.eye(n)\n",
        "    E[i,i] = 0\n",
        "    E[j,j] = 0\n",
        "    E[i,j] = 1\n",
        "    E[j,i] = 1\n",
        "    return E @ A\n",
        "\n",
        "# MULTIPLICAR UN RENGLON POR UNA CONSTANTE NO NULA\n",
        "def scale_row(A,k,i):\n",
        "    \"Multiplicar el renglón i por k en la matriz A.\"\n",
        "    n = A.shape[0]\n",
        "    E = np.eye(n)\n",
        "    E[i,i] = k\n",
        "    return E @ A\n",
        "\n",
        "#SUMAR UN MULTIPLO DE UN RENGLO A OTRO RENGLON\n",
        "def add_row(A,k,i,j):\n",
        "    \"Sumar k veces el renglón j al renglón i en la matriz A.\"\n",
        "    n = A.shape[0]\n",
        "    E = np.eye(n)\n",
        "    if i == j:\n",
        "        E[i,i] = k + 1\n",
        "    else:\n",
        "        E[i,j] = k\n",
        "    return E @ A"
      ],
      "execution_count": 6,
      "outputs": []
    },
    {
      "cell_type": "code",
      "metadata": {
        "colab": {
          "base_uri": "https://localhost:8080/"
        },
        "id": "zOtENSBR-aVH",
        "outputId": "662c6d3e-aa5c-459b-b881-356575848021"
      },
      "source": [
        "M = np.array([[1,-3,1],[3,-4,1],[0,2,-1]])\n",
        "#CONVIRTIENDO EL SISTEMA DE ECUACIONES A UNA MATRIZ 3X3\n",
        "print(M)\n",
        "print()\n",
        "print('det(M) = ', la.det(M))"
      ],
      "execution_count": 7,
      "outputs": [
        {
          "output_type": "stream",
          "text": [
            "[[ 1 -3  1]\n",
            " [ 3 -4  1]\n",
            " [ 0  2 -1]]\n",
            "\n",
            "det(M) =  -1.0000000000000004\n"
          ],
          "name": "stdout"
        }
      ]
    },
    {
      "cell_type": "code",
      "metadata": {
        "colab": {
          "base_uri": "https://localhost:8080/"
        },
        "id": "Cvg-aKAn-eQ4",
        "outputId": "099a174d-86d6-4f76-aa74-7b3727de8de2"
      },
      "source": [
        "# MATRIZ AUMENTADA: UNIMOS LA MATRIZ M CON LA MATRIZ IDENTIDAD\n",
        "A = np.hstack([M,np.eye(3)])\n",
        "print(A)"
      ],
      "execution_count": 8,
      "outputs": [
        {
          "output_type": "stream",
          "text": [
            "[[ 1. -3.  1.  1.  0.  0.]\n",
            " [ 3. -4.  1.  0.  1.  0.]\n",
            " [ 0.  2. -1.  0.  0.  1.]]\n"
          ],
          "name": "stdout"
        }
      ]
    },
    {
      "cell_type": "code",
      "metadata": {
        "colab": {
          "base_uri": "https://localhost:8080/"
        },
        "id": "Ol0bcOdK-gWg",
        "outputId": "e1a6a053-49cf-480d-98de-69929a3efc7e"
      },
      "source": [
        "A1 = scale_row(A,1/3,1)\n",
        "# R2*1/3 -----> R2\n",
        "A2 = add_row(A1,-1,1,0)\n",
        "# R2+(-R1) ---> R2\n",
        "print(A2)"
      ],
      "execution_count": 9,
      "outputs": [
        {
          "output_type": "stream",
          "text": [
            "[[ 1.         -3.          1.          1.          0.          0.        ]\n",
            " [ 0.          1.66666667 -0.66666667 -1.          0.33333333  0.        ]\n",
            " [ 0.          2.         -1.          0.          0.          1.        ]]\n"
          ],
          "name": "stdout"
        }
      ]
    },
    {
      "cell_type": "code",
      "metadata": {
        "colab": {
          "base_uri": "https://localhost:8080/"
        },
        "id": "X4NHNIlx-hkG",
        "outputId": "46d3e946-d7af-4f8c-e425-110caf4f22d9"
      },
      "source": [
        "A3 = scale_row(A2,1/2,2)\n",
        "# R3*(1/2) -----> R3\n",
        "A4= add_row(A3,(-3/5.),2,1)\n",
        "# R3-R2*(-3/5) ----->R3\n",
        "print(A4)"
      ],
      "execution_count": 10,
      "outputs": [
        {
          "output_type": "stream",
          "text": [
            "[[ 1.         -3.          1.          1.          0.          0.        ]\n",
            " [ 0.          1.66666667 -0.66666667 -1.          0.33333333  0.        ]\n",
            " [ 0.          0.         -0.1         0.6        -0.2         0.5       ]]\n"
          ],
          "name": "stdout"
        }
      ]
    },
    {
      "cell_type": "code",
      "metadata": {
        "colab": {
          "base_uri": "https://localhost:8080/"
        },
        "id": "4_VEd6RQ-j4k",
        "outputId": "65b96e2b-62d5-4fc6-c788-a95ad7a78654"
      },
      "source": [
        "A5 = add_row(A4,10.0,0,2)\n",
        "#R1+10*R3--------> R1\n",
        "A6 = add_row(A5,(-20/3),1,2)\n",
        "#R2+(-20/3*R3) --------> R2\n",
        "A7 = add_row(A6,9/5,0,1)\n",
        "#R1+(9/3*R2)---------> R1\n",
        "print(A7)"
      ],
      "execution_count": 11,
      "outputs": [
        {
          "output_type": "stream",
          "text": [
            "[[ 1.00000000e+00  2.07241631e-16 -1.24344979e-16 -2.00000000e+00\n",
            "   1.00000000e+00 -1.00000000e+00]\n",
            " [ 0.00000000e+00  1.66666667e+00 -1.92438658e-16 -5.00000000e+00\n",
            "   1.66666667e+00 -3.33333333e+00]\n",
            " [ 0.00000000e+00  0.00000000e+00 -1.00000000e-01  6.00000000e-01\n",
            "  -2.00000000e-01  5.00000000e-01]]\n"
          ],
          "name": "stdout"
        }
      ]
    },
    {
      "cell_type": "code",
      "metadata": {
        "colab": {
          "base_uri": "https://localhost:8080/"
        },
        "id": "WwwqnOwf-t8G",
        "outputId": "14f07049-650d-4781-9378-9cc5985b66de"
      },
      "source": [
        "A8 = scale_row(A7,3/5,1)\n",
        "A9 = scale_row(A8,-10,2)\n",
        "print(A9)"
      ],
      "execution_count": 12,
      "outputs": [
        {
          "output_type": "stream",
          "text": [
            "[[ 1.00000000e+00  2.07241631e-16 -1.24344979e-16 -2.00000000e+00\n",
            "   1.00000000e+00 -1.00000000e+00]\n",
            " [ 0.00000000e+00  1.00000000e+00 -1.15463195e-16 -3.00000000e+00\n",
            "   1.00000000e+00 -2.00000000e+00]\n",
            " [ 0.00000000e+00  0.00000000e+00  1.00000000e+00 -6.00000000e+00\n",
            "   2.00000000e+00 -5.00000000e+00]]\n"
          ],
          "name": "stdout"
        }
      ]
    },
    {
      "cell_type": "code",
      "metadata": {
        "colab": {
          "base_uri": "https://localhost:8080/"
        },
        "id": "sUNVpTj1-_vO",
        "outputId": "51d693d3-893f-40a7-80eb-1d282044f567"
      },
      "source": [
        "# HEMOS OBTENIDO LA INVERSA\n",
        "M_inv = A9[:,3:]\n",
        "print(M_inv)"
      ],
      "execution_count": 13,
      "outputs": [
        {
          "output_type": "stream",
          "text": [
            "[[-2.  1. -1.]\n",
            " [-3.  1. -2.]\n",
            " [-6.  2. -5.]]\n"
          ],
          "name": "stdout"
        }
      ]
    },
    {
      "cell_type": "code",
      "metadata": {
        "colab": {
          "base_uri": "https://localhost:8080/"
        },
        "id": "c_lpg-1z_Bm0",
        "outputId": "e36bab09-9274-42af-eb01-45ed7e1af0a0"
      },
      "source": [
        "# El producto de M_inv @ M = I \n",
        "result = M_inv @ M\n",
        "print(result)"
      ],
      "execution_count": 14,
      "outputs": [
        {
          "output_type": "stream",
          "text": [
            "[[ 1.00000000e+00 -8.88178420e-16  4.44089210e-16]\n",
            " [-3.33066907e-16  1.00000000e+00  0.00000000e+00]\n",
            " [-6.66133815e-16  0.00000000e+00  1.00000000e+00]]\n"
          ],
          "name": "stdout"
        }
      ]
    },
    {
      "cell_type": "code",
      "metadata": {
        "colab": {
          "base_uri": "https://localhost:8080/"
        },
        "id": "vP96X-72_EAx",
        "outputId": "54d5f004-7a1f-45cb-d096-9477febe6e24"
      },
      "source": [
        "# Checamos la inversa de M con la función 'la.inv(M)'\n",
        "la.inv(M)"
      ],
      "execution_count": 15,
      "outputs": [
        {
          "output_type": "execute_result",
          "data": {
            "text/plain": [
              "array([[-2.,  1., -1.],\n",
              "       [-3.,  1., -2.],\n",
              "       [-6.,  2., -5.]])"
            ]
          },
          "metadata": {
            "tags": []
          },
          "execution_count": 15
        }
      ]
    },
    {
      "cell_type": "code",
      "metadata": {
        "colab": {
          "base_uri": "https://localhost:8080/"
        },
        "id": "jSDKfuPb_f6D",
        "outputId": "0eb74a02-7df0-4450-9e3e-ecc4f4b85293"
      },
      "source": [
        "# definimos b. Recordemos que tenemos que usar la función .reshape()\n",
        "b = np.array([1,5,0]).reshape(3,1)\n",
        "print(b)"
      ],
      "execution_count": 16,
      "outputs": [
        {
          "output_type": "stream",
          "text": [
            "[[1]\n",
            " [5]\n",
            " [0]]\n"
          ],
          "name": "stdout"
        }
      ]
    },
    {
      "cell_type": "code",
      "metadata": {
        "colab": {
          "base_uri": "https://localhost:8080/"
        },
        "id": "NR2Npu8c_HOu",
        "outputId": "adff7138-8f7b-432b-e2e8-351522b6720a"
      },
      "source": [
        "# La solución es:\n",
        "x = M_inv @ b\n",
        "\n",
        "print(x)"
      ],
      "execution_count": 17,
      "outputs": [
        {
          "output_type": "stream",
          "text": [
            "[[3.]\n",
            " [2.]\n",
            " [4.]]\n"
          ],
          "name": "stdout"
        }
      ]
    },
    {
      "cell_type": "code",
      "metadata": {
        "colab": {
          "base_uri": "https://localhost:8080/"
        },
        "id": "CdWu_IYD_jUD",
        "outputId": "04f524d2-c9d7-4b71-8118-83cadf15e286"
      },
      "source": [
        "# Resolviendo el sistema de ecuaciones usando scipy.linalg.solve\n",
        "x_sol = la.solve(M, b)\n",
        "print(x_sol)"
      ],
      "execution_count": 18,
      "outputs": [
        {
          "output_type": "stream",
          "text": [
            "[[3.]\n",
            " [2.]\n",
            " [4.]]\n"
          ],
          "name": "stdout"
        }
      ]
    },
    {
      "cell_type": "markdown",
      "metadata": {
        "id": "gm0MIPetANj1"
      },
      "source": [
        "\n",
        "\n",
        "**Ejercicio 4:**\n",
        "\n",
        "Dadas las siguientes matrices $B_1, B_2$ y $B_3$\n",
        "\n",
        "(Ejemplos del artículo de Wikipedia sobre Eigenvalores y Eigenvectores)\n",
        "$$\\begin{equation*} B_1 = \\begin{bmatrix} 2 &  0 &  0 \\\\ 0 &  3 &  4 \\\\ 0 &  4 &  9 \\\\ \\end{bmatrix} \\end{equation*}$$$$\\begin{equation*} B_2 = \\begin{bmatrix} 0 &  1 &  0 \\\\ 0 &  0 &  1 \\\\ 1 &  0 &  0 \\\\ \\end{bmatrix} \\end{equation*}$$$$\\begin{equation*} B_3 = \\begin{bmatrix} 2 &  0 &  0 &  0\\\\ 1 &  2 &  0 &  0 \\\\ 0 &  1 &  3 &  0 \\\\ 0 &  0 &  1 &  3 \\\\ \\end{bmatrix} \\end{equation*}$$\n",
        "\n",
        "Encuentra los eigenvalores y eigenvectores de cada matriz utilizando la función de scipy.linalg.eig(), y contrasta tus resultados en cada caso con los que se desarrollan en los ejemplos de la Wikipedia.\n"
      ]
    },
    {
      "cell_type": "code",
      "metadata": {
        "colab": {
          "base_uri": "https://localhost:8080/"
        },
        "id": "0r0HAC4rAsEc",
        "outputId": "2f8296f9-655d-42f6-aee4-b77de6382669"
      },
      "source": [
        "B1 =np.array([[2,0,0],\n",
        "              [0,3,4],\n",
        "              [0,4,9]])\n",
        "#SE DEFINE LA MATRIZ B1\n",
        "\n",
        "print(\"Matriz B1\")\n",
        "print(B1)\n",
        "\n",
        "eigvalsB1, eigvecsB1 = la.eig(B1)\n",
        "#SE SACAN LOS VALORES DE EIGENVECTORES Y EIGENVALORES\n",
        "\n",
        "print()\n",
        "print('Eigenvalores:', eigvalsB1)\n",
        "print()\n",
        "\n",
        "v1 = eigvecsB1[:,0]\n",
        "v2 = eigvecsB1[:,1]\n",
        "v3 = eigvecsB1[:,2]\n",
        "print('v1=',v1)\n",
        "print('v2=',v2)\n",
        "print('v3=',v3)"
      ],
      "execution_count": 19,
      "outputs": [
        {
          "output_type": "stream",
          "text": [
            "Matriz B1\n",
            "[[2 0 0]\n",
            " [0 3 4]\n",
            " [0 4 9]]\n",
            "\n",
            "Eigenvalores: [11.+0.j  1.+0.j  2.+0.j]\n",
            "\n",
            "v1= [0.         0.4472136  0.89442719]\n",
            "v2= [ 0.          0.89442719 -0.4472136 ]\n",
            "v3= [1. 0. 0.]\n"
          ],
          "name": "stdout"
        }
      ]
    },
    {
      "cell_type": "code",
      "metadata": {
        "colab": {
          "base_uri": "https://localhost:8080/"
        },
        "id": "0p4IvY2pA1WK",
        "outputId": "a8de9d02-a480-4ad8-96ca-28fcfa74b5c1"
      },
      "source": [
        "B2 =np.array([[0,1,0],\n",
        "              [0,0,1],\n",
        "              [1,0,0]])\n",
        "#SE DEFINE LA MATRIZ B2\n",
        "\n",
        "print(\"Matriz B2\")\n",
        "print(B2)\n",
        "\n",
        "eigvalsB2, eigvecsB2 = la.eig(B2)\n",
        "#SE SACAN LOS VALORES DE EIGENVECTORES Y EIGENVALORES\n",
        "\n",
        "print()\n",
        "print('Eigenvalores:', eigvalsB2)\n",
        "print()\n",
        "\n",
        "v1 = eigvecsB2[:,0]\n",
        "v2 = eigvecsB2[:,1]\n",
        "v3 = eigvecsB2[:,2]\n",
        "print('v1=',v1)\n",
        "print('v2=',v2)\n",
        "print('v3=',v3)"
      ],
      "execution_count": 20,
      "outputs": [
        {
          "output_type": "stream",
          "text": [
            "Matriz B2\n",
            "[[0 1 0]\n",
            " [0 0 1]\n",
            " [1 0 0]]\n",
            "\n",
            "Eigenvalores: [-0.5+0.8660254j -0.5-0.8660254j  1. +0.j       ]\n",
            "\n",
            "v1= [ 0.57735027+0.j  -0.28867513+0.5j -0.28867513-0.5j]\n",
            "v2= [ 0.57735027-0.j  -0.28867513-0.5j -0.28867513+0.5j]\n",
            "v3= [-0.57735027+0.j -0.57735027+0.j -0.57735027+0.j]\n"
          ],
          "name": "stdout"
        }
      ]
    },
    {
      "cell_type": "code",
      "metadata": {
        "colab": {
          "base_uri": "https://localhost:8080/"
        },
        "id": "BH6vhs2dA3ob",
        "outputId": "ad087edb-654b-475c-cd2c-ebfd1f8a6ec1"
      },
      "source": [
        "B3 =np.array([[2,0,0,0],\n",
        "              [1,2,0,0],\n",
        "              [0,1,3,0],\n",
        "              [0,0,1,3]])\n",
        "#SE DEFINE LA MATRIZ B3\n",
        "\n",
        "print(\"Matriz B2\")\n",
        "print(B3)\n",
        "\n",
        "eigvalsB3, eigvecsB3 = la.eig(B3)\n",
        "#SE SACAN LOS VALORES DE EIGENVECTORES Y EIGENVALORES\n",
        "\n",
        "print()\n",
        "print('Eigenvalores:', eigvalsB3)\n",
        "print()\n",
        "\n",
        "v1 = eigvecsB3[:,0]\n",
        "v2 = eigvecsB3[:,1]\n",
        "v3 = eigvecsB3[:,2]\n",
        "v4 = eigvecsB3[:,3]\n",
        "print('v1=',v1)\n",
        "print('v2=',v2)\n",
        "print('v3=',v3)\n",
        "print('v4=',v4)"
      ],
      "execution_count": 21,
      "outputs": [
        {
          "output_type": "stream",
          "text": [
            "Matriz B2\n",
            "[[2 0 0 0]\n",
            " [1 2 0 0]\n",
            " [0 1 3 0]\n",
            " [0 0 1 3]]\n",
            "\n",
            "Eigenvalores: [3.+0.j 3.+0.j 2.+0.j 2.+0.j]\n",
            "\n",
            "v1= [0. 0. 0. 1.]\n",
            "v2= [ 0.00000000e+00  0.00000000e+00  6.66133815e-16 -1.00000000e+00]\n",
            "v3= [ 0.          0.57735027 -0.57735027  0.57735027]\n",
            "v4= [ 2.56395025e-16 -5.77350269e-01  5.77350269e-01 -5.77350269e-01]\n"
          ],
          "name": "stdout"
        }
      ]
    },
    {
      "cell_type": "markdown",
      "metadata": {
        "id": "5imGdjOUBEqq"
      },
      "source": [
        "Ejercicio 5. Se tienen los siguientes 8 puntos:\n",
        "$$\\begin{eqnarray*} (x&,&y) \\space \\space \\space \\space \\space \\space \\space \\space \\space \\space \\space \\space \\space \\space \\space (1) \\\\ (0.0 &,& 0.0), \\space \\space \\space \\space \\space \\space \\space \\space \\space \\space (2)\\\\ (0.5 &,& 0.47942), \\space \\space (3)\\\\ (1.0 &,& 0.84147), \\space \\space (4)\\\\ (1.5 &,& 0.99749), \\space \\space (5)\\\\ (2.0 &,& 0.90930), \\space \\space (6)\\\\ (2.5 &,& 0.59847), \\space \\space (7)\\\\ (3.0 &,& 0.14112), \\space \\space (8)\\\\ (3.5 &,& -0.35078) \\space (9)\\\\ \\end{eqnarray*}$$\n",
        "\n",
        "Encuentre un polinomio interpolante $p(x)$ que pase por los 8 puntos.\n",
        "\n",
        "Sobreponga la función $y=\\sin(x)$ y contrástela con el polinomio $p(x)$."
      ]
    },
    {
      "cell_type": "code",
      "metadata": {
        "colab": {
          "base_uri": "https://localhost:8080/",
          "height": 295
        },
        "id": "68NMvlP5A-LV",
        "outputId": "d610c9dc-1676-4684-ee18-e3230d94ce5b"
      },
      "source": [
        "N = np.array([[0.0, 0.0], \n",
        "               [0.5, 0.47942], \n",
        "               [1.0 , 0.84147],\n",
        "               [1.5 , 0.99749],\n",
        "               [2.0 , 0.90930],\n",
        "               [2.5 , 0.59847],\n",
        "               [3.0 , 0.14112],\n",
        "               [3.5 ,-0.35078]])\n",
        "#ARRAY, ARREGLO DE PUNTOS ( X, Y)\n",
        "\n",
        "i = 0 #COLUMNA QUE QUEREMOS OBTENER 1\n",
        "j = 1 #cOLUMNA QUE QUEREMOS OBTENER 2\n",
        "x = [fila[i] for fila in N]\n",
        "y = [fila[j] for fila in N]\n",
        "x = np.array(x)\n",
        "y= np.array(y)\n",
        "\n",
        "plt.plot(x,y,'r.')\n",
        "plt.grid()\n",
        "plt.title('Puntos aleatorios que deseamos interpolar')\n",
        "plt.xlabel('x')\n",
        "plt.ylabel('y')\n",
        "plt.show()"
      ],
      "execution_count": 22,
      "outputs": [
        {
          "output_type": "display_data",
          "data": {
            "image/png": "[encoded data removed]",
            "text/plain": [
              "<Figure size 432x288 with 1 Axes>"
            ]
          },
          "metadata": {
            "tags": [],
            "needs_background": "light"
          }
        }
      ]
    },
    {
      "cell_type": "code",
      "metadata": {
        "colab": {
          "base_uri": "https://localhost:8080/"
        },
        "id": "wGUdd3lyCHNt",
        "outputId": "203a4010-912e-4eb0-a0a7-262562494a4d"
      },
      "source": [
        "# La biblioteca Numpy tambien tiene una función para crear la matriz de Vandermonde\n",
        "X = np.vander(x,increasing=True)\n",
        "# Sólo imprimimos los primeros 5 renglones y columnas.\n",
        "print(X[:5,:5])"
      ],
      "execution_count": 23,
      "outputs": [
        {
          "output_type": "stream",
          "text": [
            "[[ 1.      0.      0.      0.      0.    ]\n",
            " [ 1.      0.5     0.25    0.125   0.0625]\n",
            " [ 1.      1.      1.      1.      1.    ]\n",
            " [ 1.      1.5     2.25    3.375   5.0625]\n",
            " [ 1.      2.      4.      8.     16.    ]]\n"
          ],
          "name": "stdout"
        }
      ]
    },
    {
      "cell_type": "code",
      "metadata": {
        "colab": {
          "base_uri": "https://localhost:8080/"
        },
        "id": "WQ-kXOijCIOA",
        "outputId": "c66e5da1-8667-4cd9-9a50-87d3f7ab1c66"
      },
      "source": [
        "# USAMOS LA FUNCION DE  scipy.linalg.solve(), PARA ENCONTRAR LOS 8 COEFICIENTES\n",
        "# DE LA ECUACION LINEAL Xa=y\n",
        "a = la.solve(X,y)\n",
        "print(a)"
      ],
      "execution_count": 24,
      "outputs": [
        {
          "output_type": "stream",
          "text": [
            "[ 0.00000000e+00  1.00067181e+00 -3.70788889e-03 -1.58867889e-01\n",
            " -8.30222222e-03  1.31964444e-02 -1.54488889e-03  2.46349206e-05]\n"
          ],
          "name": "stdout"
        }
      ]
    },
    {
      "cell_type": "code",
      "metadata": {
        "colab": {
          "base_uri": "https://localhost:8080/",
          "height": 295
        },
        "id": "vrW2_njSCJyo",
        "outputId": "af7e772f-bc3e-4424-9dd6-c132600088ec"
      },
      "source": [
        "# Graficamos el polinomio interpolante y los puntos interpolados\n",
        "# Los puntos interpolados en rojo ('r.')\n",
        "xs = np.linspace(0,8-1,200)\n",
        "ys = sum([a[k]*xs**k for k in range(0,8)])\n",
        "plt.plot(x,y,'r.',xs,ys);\n",
        "plt.plot(x,np.sin(x),\"g\")\n",
        "plt.grid()\n",
        "plt.title('Polinomio interpolante p(x)')\n",
        "plt.xlabel('x')\n",
        "plt.ylabel('y')\n",
        "plt.show()"
      ],
      "execution_count": 25,
      "outputs": [
        {
          "output_type": "display_data",
          "data": {
            "image/png": "[encoded data removed]",
            "text/plain": [
              "<Figure size 432x288 with 1 Axes>"
            ]
          },
          "metadata": {
            "tags": [],
            "needs_background": "light"
          }
        }
      ]
    },
    {
      "cell_type": "markdown",
      "metadata": {
        "id": "Q0K5l6onCRCx"
      },
      "source": [
        "Ejercicio 6. Regrese a su modelo de análisis de series de tiempo. Haga una descomposición de su serie de tiempo de las temperaturas (Tmax y Tmin), y realice una regresión lineal sobre la serie de Tendencia de Temp $(T = a_0 + a_1 t)$. Encuentre si la pendiente es positiva o negativa de la tendencia (signo de $a_1$), es decir si las Temperaturas (Tmax, Tmin) están subiendo o bajando en el periodo analizado."
      ]
    },
    {
      "cell_type": "code",
      "metadata": {
        "colab": {
          "base_uri": "https://localhost:8080/",
          "height": 295
        },
        "id": "R8LnBfzlsSYZ",
        "outputId": "1c9ea6b3-f0d7-45cf-8e63-c9d721d6e25c"
      },
      "source": [
        "# Vamos a hacer una regresión lineal con nuestros datos de temperatura\n",
        "# Coeficientes de la recta\n",
        "a0 = 5\n",
        "a1 = 10\n",
        "# Número de puntos entre (10,40)\n",
        "N = 100\n",
        "x = np.random.rand(100)\n",
        "# Ruido gaussiano\n",
        "noise = 0.2*np.random.randn(100)\n",
        "# Agregamos el ruido a la recta\n",
        "y = a0 + a1*x + noise\n",
        "\n",
        "plt.scatter(x,y);\n",
        "plt.grid()\n",
        "plt.title('Datos de temperatura')\n",
        "plt.xlabel('x')\n",
        "plt.ylabel('y')\n",
        "plt.show()"
      ],
      "execution_count": 26,
      "outputs": [
        {
          "output_type": "display_data",
          "data": {
            "image/png": "[encoded data removed]",
            "text/plain": [
              "<Figure size 432x288 with 1 Axes>"
            ]
          },
          "metadata": {
            "tags": [],
            "needs_background": "light"
          }
        }
      ]
    },
    {
      "cell_type": "code",
      "metadata": {
        "colab": {
          "base_uri": "https://localhost:8080/"
        },
        "id": "om54EmZfsT17",
        "outputId": "888abfb4-5f4d-4ecb-bd51-135b10678dbb"
      },
      "source": [
        "# Creamos la matriz X, con 1's en la primera columna y los puntos x_k en la segunda.\n",
        "X = np.column_stack([np.ones(N),x])\n",
        "print('Shape:', X.shape)\n",
        "# Imprimimos los primeros 5 renglones para verificar\n",
        "print(X[:5,:])"
      ],
      "execution_count": 27,
      "outputs": [
        {
          "output_type": "stream",
          "text": [
            "Shape: (100, 2)\n",
            "[[1.         0.40829462]\n",
            " [1.         0.14852029]\n",
            " [1.         0.21217334]\n",
            " [1.         0.09706698]\n",
            " [1.         0.49674369]]\n"
          ],
          "name": "stdout"
        }
      ]
    },
    {
      "cell_type": "code",
      "metadata": {
        "colab": {
          "base_uri": "https://localhost:8080/"
        },
        "id": "NZIdlay7sY3H",
        "outputId": "5401c6a9-fe20-4459-af35-4a5f094715eb"
      },
      "source": [
        "# Usamos la función scipy.linalg.solve() para resolver la ecuación X.T@X@a = X.T@y respecto a 'a'\n",
        "a = la.solve(X.T @ X, X.T @ y)\n",
        "print(a)"
      ],
      "execution_count": 28,
      "outputs": [
        {
          "output_type": "stream",
          "text": [
            "[5.02234411 9.95134684]\n"
          ],
          "name": "stdout"
        }
      ]
    },
    {
      "cell_type": "code",
      "metadata": {
        "colab": {
          "base_uri": "https://localhost:8080/",
          "height": 295
        },
        "id": "YWCKWfTAsbVf",
        "outputId": "192a9b61-71b4-417d-bdad-29205f56bb75"
      },
      "source": [
        "xs = np.linspace(0,1,10)\n",
        "ys = a[0] + a[1]*xs\n",
        "plt.plot(xs,ys,'r',linewidth=4)\n",
        "plt.scatter(x,y);\n",
        "plt.grid()\n",
        "plt.title('Ajuste mediante Regresión Lineal de los datos')\n",
        "plt.xlabel('x')\n",
        "plt.ylabel('y')\n",
        "plt.show()"
      ],
      "execution_count": 29,
      "outputs": [
        {
          "output_type": "display_data",
          "data": {
            "image/png": "[encoded data removed]",
            "text/plain": [
              "<Figure size 432x288 with 1 Axes>"
            ]
          },
          "metadata": {
            "tags": [],
            "needs_background": "light"
          }
        }
      ]
    },
    {
      "cell_type": "code",
      "metadata": {
        "colab": {
          "base_uri": "https://localhost:8080/",
          "height": 295
        },
        "id": "E1C-GFmksc0Z",
        "outputId": "05604897-3b68-4958-d6a7-b6e1d423b72f"
      },
      "source": [
        "# Los coeficientes para gererar los datos\n",
        "a0 = 1\n",
        "a1 = 3\n",
        "a2 = 7\n",
        "# Generaremos 1000 datos aleatorios entre (10,40)\n",
        "N = 1000\n",
        "x = 2*np.random.rand(N) - 1 # Distribuimos los datos entre (-1,1)\n",
        "# Ruido gaussiano\n",
        "noise = np.random.randn(N)\n",
        "# Una parábola con ruido\n",
        "y = a0 + a1*x + a2*x**2 + noise\n",
        "plt.scatter(x,y,alpha=0.5,lw=0);\n",
        "plt.grid()\n",
        "plt.title('Colección de datos aleatorios')\n",
        "plt.xlabel('x')\n",
        "plt.ylabel('y')\n",
        "plt.show()"
      ],
      "execution_count": 30,
      "outputs": [
        {
          "output_type": "display_data",
          "data": {
            "image/png": "[encoded data removed]",
            "text/plain": [
              "<Figure size 432x288 with 1 Axes>"
            ]
          },
          "metadata": {
            "tags": [],
            "needs_background": "light"
          }
        }
      ]
    },
    {
      "cell_type": "code",
      "metadata": {
        "colab": {
          "base_uri": "https://localhost:8080/"
        },
        "id": "uYrszv9vsevj",
        "outputId": "3938e070-002e-4993-cf1e-068107f06156"
      },
      "source": [
        "# Construimos la matriz de Vandermonde\n",
        "X = np.column_stack([np.ones(N),x,x**2])\n",
        "print('Shape:', X.shape)\n",
        "# Imprimimos los primeros 5 renglones para verificar\n",
        "print(X[:5,:])"
      ],
      "execution_count": 31,
      "outputs": [
        {
          "output_type": "stream",
          "text": [
            "Shape: (1000, 3)\n",
            "[[ 1.          0.76152691  0.57992324]\n",
            " [ 1.         -0.70335786  0.49471227]\n",
            " [ 1.         -0.98910881  0.97833623]\n",
            " [ 1.         -0.06948871  0.00482868]\n",
            " [ 1.         -0.17038595  0.02903137]]\n"
          ],
          "name": "stdout"
        }
      ]
    },
    {
      "cell_type": "code",
      "metadata": {
        "colab": {
          "base_uri": "https://localhost:8080/"
        },
        "id": "VhmFMZInsgZI",
        "outputId": "d47472d5-6e4c-47dc-c9b2-8cb9d22215b9"
      },
      "source": [
        "# Usamos la función scipy.linalg.solve() para resolver la ecuación X.T@X@a = X.T@y respecto a 'a'\n",
        "a = la.solve(X.T @ X, X.T @ y)\n",
        "print(a)"
      ],
      "execution_count": 32,
      "outputs": [
        {
          "output_type": "stream",
          "text": [
            "[1.03651159 3.01311748 6.81926449]\n"
          ],
          "name": "stdout"
        }
      ]
    },
    {
      "cell_type": "code",
      "metadata": {
        "colab": {
          "base_uri": "https://localhost:8080/",
          "height": 295
        },
        "id": "um5duAt1siNU",
        "outputId": "d0f839a5-4c95-47fb-d727-12e1c39d7828"
      },
      "source": [
        "xs = np.linspace(-1,1,5)\n",
        "ys = a[0] + a[1]*xs + a[2]*xs**2\n",
        "plt.plot(xs,ys,'r',linewidth=4)\n",
        "plt.scatter(x,y,alpha=0.5,lw=0)\n",
        "plt.grid()\n",
        "plt.title('Ajuste mediante Regresión Cuadrática para nuestras temperaturas')\n",
        "plt.xlabel('x')\n",
        "plt.ylabel('y')\n",
        "plt.show()"
      ],
      "execution_count": 33,
      "outputs": [
        {
          "output_type": "display_data",
          "data": {
            "image/png": "[encoded data removed]",
            "text/plain": [
              "<Figure size 432x288 with 1 Axes>"
            ]
          },
          "metadata": {
            "tags": [],
            "needs_background": "light"
          }
        }
      ]
    }
  ]
}