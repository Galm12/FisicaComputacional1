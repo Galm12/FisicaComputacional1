{
  "nbformat": 4,
  "nbformat_minor": 0,
  "metadata": {
    "colab": {
      "name": "Actividad3.ipynb",
      "provenance": []
    },
    "kernelspec": {
      "name": "python3",
      "display_name": "Python 3"
    }
  },
  "cells": [
    {
      "cell_type": "code",
      "metadata": {
        "id": "BCC3PKNP-hQl"
      },
      "source": [
        "import numpy as np\r\n",
        "\r\n",
        "import pandas as pd\r\n"
      ],
      "execution_count": 4,
      "outputs": []
    },
    {
      "cell_type": "code",
      "metadata": {
        "colab": {
          "base_uri": "https://localhost:8080/"
        },
        "id": "SwZKP_rx-rcL",
        "outputId": "c2f0f5f4-7e77-4293-e66f-4a11be7920ee"
      },
      "source": [
        "url = 'https://raw.githubusercontent.com/Galm12/FisicaComputacional1/main/Actividad%20I/Datos.txt'\r\n",
        "columnas = ['Fecha', 'Precip', 'Evap', 'Tmax', 'Tmin']\r\n",
        "df = pd.read_csv(url, names=columnas, encoding='cp1251', sep='\\s+', header=None, skiprows=19, skipfooter=1, engine='python')\r\n",
        "print(df.head(10))\r\n",
        "print(df.tail(10))"
      ],
      "execution_count": 17,
      "outputs": [
        {
          "output_type": "stream",
          "text": [
            "        Fecha Precip Evap  Tmax Tmin\n",
            "0  01/01/1986      0  4.6    26    9\n",
            "1  02/01/1986      0  6.2    29    8\n",
            "2  03/01/1986      0  4.4  23.5   10\n",
            "3  04/01/1986      0  4.7    26   10\n",
            "4  05/01/1986      0  5.9    28   11\n",
            "5  06/01/1986      0  5.4    27    9\n",
            "6  07/01/1986      0  4.8    24    5\n",
            "7  08/01/1986      0  5.8    25    9\n",
            "8  09/01/1986      0  7.3    28  5.5\n",
            "9  10/01/1986      0  6.3    29    8\n",
            "            Fecha Precip Evap  Tmax  Tmin\n",
            "11130  21/09/2016      0  5.7    38    24\n",
            "11131  22/09/2016      0  7.7  31.5    21\n",
            "11132  23/09/2016      0  7.3    35  22.5\n",
            "11133  24/09/2016      0    7    37    21\n",
            "11134  25/09/2016    0.8  7.9    37    16\n",
            "11135  26/09/2016      0  5.8    36    18\n",
            "11136  27/09/2016      0    7  36.5    20\n",
            "11137  28/09/2016      0  6.3    37    19\n",
            "11138  29/09/2016    0.7  5.3  37.5    22\n",
            "11139  30/09/2016      0  5.7    37    24\n"
          ],
          "name": "stdout"
        }
      ]
    },
    {
      "cell_type": "code",
      "metadata": {
        "colab": {
          "base_uri": "https://localhost:8080/"
        },
        "id": "BnNf_FqHIQ9L",
        "outputId": "d3bcee89-8bfe-40e7-9641-c7c4d76885ee"
      },
      "source": [
        "df.shape"
      ],
      "execution_count": 8,
      "outputs": [
        {
          "output_type": "execute_result",
          "data": {
            "text/plain": [
              "(11140, 5)"
            ]
          },
          "metadata": {
            "tags": []
          },
          "execution_count": 8
        }
      ]
    },
    {
      "cell_type": "code",
      "metadata": {
        "colab": {
          "base_uri": "https://localhost:8080/"
        },
        "id": "OpF5SxfhJ8hx",
        "outputId": "38cef552-eb19-4eda-d922-0f9e919c27c0"
      },
      "source": [
        "df.info"
      ],
      "execution_count": 9,
      "outputs": [
        {
          "output_type": "execute_result",
          "data": {
            "text/plain": [
              "<bound method DataFrame.info of             Fecha Precip Evap  Tmax Tmin\n",
              "0      01/01/1986      0  4.6    26    9\n",
              "1      02/01/1986      0  6.2    29    8\n",
              "2      03/01/1986      0  4.4  23.5   10\n",
              "3      04/01/1986      0  4.7    26   10\n",
              "4      05/01/1986      0  5.9    28   11\n",
              "...           ...    ...  ...   ...  ...\n",
              "11135  26/09/2016      0  5.8    36   18\n",
              "11136  27/09/2016      0    7  36.5   20\n",
              "11137  28/09/2016      0  6.3    37   19\n",
              "11138  29/09/2016    0.7  5.3  37.5   22\n",
              "11139  30/09/2016      0  5.7    37   24\n",
              "\n",
              "[11140 rows x 5 columns]>"
            ]
          },
          "metadata": {
            "tags": []
          },
          "execution_count": 9
        }
      ]
    },
    {
      "cell_type": "code",
      "metadata": {
        "colab": {
          "base_uri": "https://localhost:8080/",
          "height": 191
        },
        "id": "1rX0gihy883y",
        "outputId": "dd96c99c-3ca9-4416-ecb5-abebfa81396b"
      },
      "source": [
        "#Realizamos una copia para poder editarla, también le cambiamos el nombre\r\n",
        "df_work0 = df.copy()\r\n",
        "df_work0.head()"
      ],
      "execution_count": 12,
      "outputs": [
        {
          "output_type": "execute_result",
          "data": {
            "text/html": [
              "<div>\n",
              "<style scoped>\n",
              "    .dataframe tbody tr th:only-of-type {\n",
              "        vertical-align: middle;\n",
              "    }\n",
              "\n",
              "    .dataframe tbody tr th {\n",
              "        vertical-align: top;\n",
              "    }\n",
              "\n",
              "    .dataframe thead th {\n",
              "        text-align: right;\n",
              "    }\n",
              "</style>\n",
              "<table border=\"1\" class=\"dataframe\">\n",
              "  <thead>\n",
              "    <tr style=\"text-align: right;\">\n",
              "      <th></th>\n",
              "      <th>Fecha</th>\n",
              "      <th>Precip</th>\n",
              "      <th>Evap</th>\n",
              "      <th>Tmax</th>\n",
              "      <th>Tmin</th>\n",
              "    </tr>\n",
              "  </thead>\n",
              "  <tbody>\n",
              "    <tr>\n",
              "      <th>0</th>\n",
              "      <td>01/01/1986</td>\n",
              "      <td>0</td>\n",
              "      <td>4.6</td>\n",
              "      <td>26</td>\n",
              "      <td>9</td>\n",
              "    </tr>\n",
              "    <tr>\n",
              "      <th>1</th>\n",
              "      <td>02/01/1986</td>\n",
              "      <td>0</td>\n",
              "      <td>6.2</td>\n",
              "      <td>29</td>\n",
              "      <td>8</td>\n",
              "    </tr>\n",
              "    <tr>\n",
              "      <th>2</th>\n",
              "      <td>03/01/1986</td>\n",
              "      <td>0</td>\n",
              "      <td>4.4</td>\n",
              "      <td>23.5</td>\n",
              "      <td>10</td>\n",
              "    </tr>\n",
              "    <tr>\n",
              "      <th>3</th>\n",
              "      <td>04/01/1986</td>\n",
              "      <td>0</td>\n",
              "      <td>4.7</td>\n",
              "      <td>26</td>\n",
              "      <td>10</td>\n",
              "    </tr>\n",
              "    <tr>\n",
              "      <th>4</th>\n",
              "      <td>05/01/1986</td>\n",
              "      <td>0</td>\n",
              "      <td>5.9</td>\n",
              "      <td>28</td>\n",
              "      <td>11</td>\n",
              "    </tr>\n",
              "  </tbody>\n",
              "</table>\n",
              "</div>"
            ],
            "text/plain": [
              "        Fecha Precip Evap  Tmax Tmin\n",
              "0  01/01/1986      0  4.6    26    9\n",
              "1  02/01/1986      0  6.2    29    8\n",
              "2  03/01/1986      0  4.4  23.5   10\n",
              "3  04/01/1986      0  4.7    26   10\n",
              "4  05/01/1986      0  5.9    28   11"
            ]
          },
          "metadata": {
            "tags": []
          },
          "execution_count": 12
        }
      ]
    },
    {
      "cell_type": "code",
      "metadata": {
        "colab": {
          "base_uri": "https://localhost:8080/",
          "height": 191
        },
        "id": "cPVkBDyOKc66",
        "outputId": "e014eba2-82de-4d74-b138-99ad74679ceb"
      },
      "source": [
        "#Llamamos Str_Nulo a los valores Nulos para pasar a darles un valor de \" \"\r\n",
        "str_Nulo = 'Nulo'\r\n",
        "df_work1 = df_work0.replace(to_replace=str_Nulo, value='', regex=True)\r\n",
        "df_work1.head()"
      ],
      "execution_count": 14,
      "outputs": [
        {
          "output_type": "execute_result",
          "data": {
            "text/html": [
              "<div>\n",
              "<style scoped>\n",
              "    .dataframe tbody tr th:only-of-type {\n",
              "        vertical-align: middle;\n",
              "    }\n",
              "\n",
              "    .dataframe tbody tr th {\n",
              "        vertical-align: top;\n",
              "    }\n",
              "\n",
              "    .dataframe thead th {\n",
              "        text-align: right;\n",
              "    }\n",
              "</style>\n",
              "<table border=\"1\" class=\"dataframe\">\n",
              "  <thead>\n",
              "    <tr style=\"text-align: right;\">\n",
              "      <th></th>\n",
              "      <th>Fecha</th>\n",
              "      <th>Precip</th>\n",
              "      <th>Evap</th>\n",
              "      <th>Tmax</th>\n",
              "      <th>Tmin</th>\n",
              "    </tr>\n",
              "  </thead>\n",
              "  <tbody>\n",
              "    <tr>\n",
              "      <th>0</th>\n",
              "      <td>01/01/1986</td>\n",
              "      <td>0</td>\n",
              "      <td>4.6</td>\n",
              "      <td>26</td>\n",
              "      <td>9</td>\n",
              "    </tr>\n",
              "    <tr>\n",
              "      <th>1</th>\n",
              "      <td>02/01/1986</td>\n",
              "      <td>0</td>\n",
              "      <td>6.2</td>\n",
              "      <td>29</td>\n",
              "      <td>8</td>\n",
              "    </tr>\n",
              "    <tr>\n",
              "      <th>2</th>\n",
              "      <td>03/01/1986</td>\n",
              "      <td>0</td>\n",
              "      <td>4.4</td>\n",
              "      <td>23.5</td>\n",
              "      <td>10</td>\n",
              "    </tr>\n",
              "    <tr>\n",
              "      <th>3</th>\n",
              "      <td>04/01/1986</td>\n",
              "      <td>0</td>\n",
              "      <td>4.7</td>\n",
              "      <td>26</td>\n",
              "      <td>10</td>\n",
              "    </tr>\n",
              "    <tr>\n",
              "      <th>4</th>\n",
              "      <td>05/01/1986</td>\n",
              "      <td>0</td>\n",
              "      <td>5.9</td>\n",
              "      <td>28</td>\n",
              "      <td>11</td>\n",
              "    </tr>\n",
              "  </tbody>\n",
              "</table>\n",
              "</div>"
            ],
            "text/plain": [
              "        Fecha Precip Evap  Tmax Tmin\n",
              "0  01/01/1986      0  4.6    26    9\n",
              "1  02/01/1986      0  6.2    29    8\n",
              "2  03/01/1986      0  4.4  23.5   10\n",
              "3  04/01/1986      0  4.7    26   10\n",
              "4  05/01/1986      0  5.9    28   11"
            ]
          },
          "metadata": {
            "tags": []
          },
          "execution_count": 14
        }
      ]
    },
    {
      "cell_type": "code",
      "metadata": {
        "id": "g1pK7MSmS-U_"
      },
      "source": [
        "#Convertimos los números a flotantes\r\n",
        "cols_list = ['Precip', 'Evap', 'Tmax', 'Tmin']\r\n",
        "for cols in cols_list:\r\n",
        "  df_work1[cols] = pd.to_numeric(df_work1[cols], errors='coerce')"
      ],
      "execution_count": 25,
      "outputs": []
    },
    {
      "cell_type": "code",
      "metadata": {
        "colab": {
          "base_uri": "https://localhost:8080/"
        },
        "id": "xYPAkoljA4e5",
        "outputId": "7b765ea5-3f55-4b39-f52c-2b83ffa836ee"
      },
      "source": [
        "df.info()"
      ],
      "execution_count": 26,
      "outputs": [
        {
          "output_type": "stream",
          "text": [
            "<class 'pandas.core.frame.DataFrame'>\n",
            "RangeIndex: 11140 entries, 0 to 11139\n",
            "Data columns (total 5 columns):\n",
            " #   Column  Non-Null Count  Dtype \n",
            "---  ------  --------------  ----- \n",
            " 0   Fecha   11140 non-null  object\n",
            " 1   Precip  11140 non-null  object\n",
            " 2   Evap    11140 non-null  object\n",
            " 3   Tmax    11140 non-null  object\n",
            " 4   Tmin    11140 non-null  object\n",
            "dtypes: object(5)\n",
            "memory usage: 435.3+ KB\n"
          ],
          "name": "stdout"
        }
      ]
    },
    {
      "cell_type": "code",
      "metadata": {
        "colab": {
          "base_uri": "https://localhost:8080/"
        },
        "id": "AeO9EnLuHLCA",
        "outputId": "40301a8c-2ffe-4fe7-d633-b94cbfd56780"
      },
      "source": [
        "df.isnull().sum()"
      ],
      "execution_count": 27,
      "outputs": [
        {
          "output_type": "execute_result",
          "data": {
            "text/plain": [
              "Fecha     0\n",
              "Precip    0\n",
              "Evap      0\n",
              "Tmax      0\n",
              "Tmin      0\n",
              "dtype: int64"
            ]
          },
          "metadata": {
            "tags": []
          },
          "execution_count": 27
        }
      ]
    },
    {
      "cell_type": "code",
      "metadata": {
        "colab": {
          "base_uri": "https://localhost:8080/"
        },
        "id": "971Bm6u5HUcf",
        "outputId": "1670afb4-e83f-404d-99b1-5c7c210ac632"
      },
      "source": [
        "print(df_work1.head())\r\n",
        "print(df_work1.tail())"
      ],
      "execution_count": 28,
      "outputs": [
        {
          "output_type": "stream",
          "text": [
            "        Fecha  Precip  Evap  Tmax  Tmin\n",
            "0  01/01/1986     0.0   4.6  26.0   9.0\n",
            "1  02/01/1986     0.0   6.2  29.0   8.0\n",
            "2  03/01/1986     0.0   4.4  23.5  10.0\n",
            "3  04/01/1986     0.0   4.7  26.0  10.0\n",
            "4  05/01/1986     0.0   5.9  28.0  11.0\n",
            "            Fecha  Precip  Evap  Tmax  Tmin\n",
            "11135  26/09/2016     0.0   5.8  36.0  18.0\n",
            "11136  27/09/2016     0.0   7.0  36.5  20.0\n",
            "11137  28/09/2016     0.0   6.3  37.0  19.0\n",
            "11138  29/09/2016     0.7   5.3  37.5  22.0\n",
            "11139  30/09/2016     0.0   5.7  37.0  24.0\n"
          ],
          "name": "stdout"
        }
      ]
    },
    {
      "cell_type": "code",
      "metadata": {
        "colab": {
          "base_uri": "https://localhost:8080/",
          "height": 277
        },
        "id": "HzufQzHbHlRf",
        "outputId": "83bc1e51-2ff1-4402-f0a3-893afc17d899"
      },
      "source": [
        "df_work1.describe().round(2)"
      ],
      "execution_count": 30,
      "outputs": [
        {
          "output_type": "execute_result",
          "data": {
            "text/html": [
              "<div>\n",
              "<style scoped>\n",
              "    .dataframe tbody tr th:only-of-type {\n",
              "        vertical-align: middle;\n",
              "    }\n",
              "\n",
              "    .dataframe tbody tr th {\n",
              "        vertical-align: top;\n",
              "    }\n",
              "\n",
              "    .dataframe thead th {\n",
              "        text-align: right;\n",
              "    }\n",
              "</style>\n",
              "<table border=\"1\" class=\"dataframe\">\n",
              "  <thead>\n",
              "    <tr style=\"text-align: right;\">\n",
              "      <th></th>\n",
              "      <th>Precip</th>\n",
              "      <th>Evap</th>\n",
              "      <th>Tmax</th>\n",
              "      <th>Tmin</th>\n",
              "    </tr>\n",
              "  </thead>\n",
              "  <tbody>\n",
              "    <tr>\n",
              "      <th>count</th>\n",
              "      <td>11138.00</td>\n",
              "      <td>6550.00</td>\n",
              "      <td>11128.00</td>\n",
              "      <td>11128.00</td>\n",
              "    </tr>\n",
              "    <tr>\n",
              "      <th>mean</th>\n",
              "      <td>0.93</td>\n",
              "      <td>6.11</td>\n",
              "      <td>32.68</td>\n",
              "      <td>14.60</td>\n",
              "    </tr>\n",
              "    <tr>\n",
              "      <th>std</th>\n",
              "      <td>5.94</td>\n",
              "      <td>2.89</td>\n",
              "      <td>5.99</td>\n",
              "      <td>8.09</td>\n",
              "    </tr>\n",
              "    <tr>\n",
              "      <th>min</th>\n",
              "      <td>0.00</td>\n",
              "      <td>0.20</td>\n",
              "      <td>11.00</td>\n",
              "      <td>-4.00</td>\n",
              "    </tr>\n",
              "    <tr>\n",
              "      <th>25%</th>\n",
              "      <td>0.00</td>\n",
              "      <td>3.70</td>\n",
              "      <td>28.00</td>\n",
              "      <td>8.00</td>\n",
              "    </tr>\n",
              "    <tr>\n",
              "      <th>50%</th>\n",
              "      <td>0.00</td>\n",
              "      <td>5.90</td>\n",
              "      <td>33.50</td>\n",
              "      <td>13.50</td>\n",
              "    </tr>\n",
              "    <tr>\n",
              "      <th>75%</th>\n",
              "      <td>0.00</td>\n",
              "      <td>8.30</td>\n",
              "      <td>38.00</td>\n",
              "      <td>23.00</td>\n",
              "    </tr>\n",
              "    <tr>\n",
              "      <th>max</th>\n",
              "      <td>193.10</td>\n",
              "      <td>17.80</td>\n",
              "      <td>46.00</td>\n",
              "      <td>33.00</td>\n",
              "    </tr>\n",
              "  </tbody>\n",
              "</table>\n",
              "</div>"
            ],
            "text/plain": [
              "         Precip     Evap      Tmax      Tmin\n",
              "count  11138.00  6550.00  11128.00  11128.00\n",
              "mean       0.93     6.11     32.68     14.60\n",
              "std        5.94     2.89      5.99      8.09\n",
              "min        0.00     0.20     11.00     -4.00\n",
              "25%        0.00     3.70     28.00      8.00\n",
              "50%        0.00     5.90     33.50     13.50\n",
              "75%        0.00     8.30     38.00     23.00\n",
              "max      193.10    17.80     46.00     33.00"
            ]
          },
          "metadata": {
            "tags": []
          },
          "execution_count": 30
        }
      ]
    },
    {
      "cell_type": "markdown",
      "metadata": {
        "id": "1s7lZ2ZrIDqV"
      },
      "source": [
        "Podemos ver que los datos obtenidos van conforme a la estación, ningún dato se dale de lo habitual"
      ]
    },
    {
      "cell_type": "markdown",
      "metadata": {
        "id": "Hlonj1MmIkqk"
      },
      "source": [
        "**Paso 4**"
      ]
    },
    {
      "cell_type": "code",
      "metadata": {
        "colab": {
          "base_uri": "https://localhost:8080/"
        },
        "id": "EToS7wCNInKh",
        "outputId": "b2d551e1-ff22-4030-d500-642f57ac1732"
      },
      "source": [
        "df_work2 = df_work1.copy()\r\n",
        "df_work2['Fecha'].head()"
      ],
      "execution_count": 31,
      "outputs": [
        {
          "output_type": "execute_result",
          "data": {
            "text/plain": [
              "0    01/01/1986\n",
              "1    02/01/1986\n",
              "2    03/01/1986\n",
              "3    04/01/1986\n",
              "4    05/01/1986\n",
              "Name: Fecha, dtype: object"
            ]
          },
          "metadata": {
            "tags": []
          },
          "execution_count": 31
        }
      ]
    },
    {
      "cell_type": "code",
      "metadata": {
        "colab": {
          "base_uri": "https://localhost:8080/"
        },
        "id": "lcJgVr1rIrf-",
        "outputId": "22eecfd4-927a-42ed-a59e-accd6edd2c2d"
      },
      "source": [
        "df_work2['Fecha']=pd.to_datetime(df_work2['Fecha'], dayfirst=True).copy()\r\n",
        "print(df_work1.head())"
      ],
      "execution_count": 32,
      "outputs": [
        {
          "output_type": "stream",
          "text": [
            "        Fecha  Precip  Evap  Tmax  Tmin\n",
            "0  01/01/1986     0.0   4.6  26.0   9.0\n",
            "1  02/01/1986     0.0   6.2  29.0   8.0\n",
            "2  03/01/1986     0.0   4.4  23.5  10.0\n",
            "3  04/01/1986     0.0   4.7  26.0  10.0\n",
            "4  05/01/1986     0.0   5.9  28.0  11.0\n"
          ],
          "name": "stdout"
        }
      ]
    },
    {
      "cell_type": "code",
      "metadata": {
        "colab": {
          "base_uri": "https://localhost:8080/"
        },
        "id": "q7M91ReIItP8",
        "outputId": "3d29d8d4-1482-4a72-f8f4-9a3d6c2f9eed"
      },
      "source": [
        "df_work2.dtypes"
      ],
      "execution_count": 33,
      "outputs": [
        {
          "output_type": "execute_result",
          "data": {
            "text/plain": [
              "Fecha     datetime64[ns]\n",
              "Precip           float64\n",
              "Evap             float64\n",
              "Tmax             float64\n",
              "Tmin             float64\n",
              "dtype: object"
            ]
          },
          "metadata": {
            "tags": []
          },
          "execution_count": 33
        }
      ]
    },
    {
      "cell_type": "code",
      "metadata": {
        "colab": {
          "base_uri": "https://localhost:8080/"
        },
        "id": "OB4ap0FxIvvF",
        "outputId": "b437a3ad-7e98-41a7-f2ba-1b5df43fa1d6"
      },
      "source": [
        "print(df_work2.head())\r\n",
        "print(df_work2.tail())"
      ],
      "execution_count": 34,
      "outputs": [
        {
          "output_type": "stream",
          "text": [
            "       Fecha  Precip  Evap  Tmax  Tmin\n",
            "0 1986-01-01     0.0   4.6  26.0   9.0\n",
            "1 1986-01-02     0.0   6.2  29.0   8.0\n",
            "2 1986-01-03     0.0   4.4  23.5  10.0\n",
            "3 1986-01-04     0.0   4.7  26.0  10.0\n",
            "4 1986-01-05     0.0   5.9  28.0  11.0\n",
            "           Fecha  Precip  Evap  Tmax  Tmin\n",
            "11135 2016-09-26     0.0   5.8  36.0  18.0\n",
            "11136 2016-09-27     0.0   7.0  36.5  20.0\n",
            "11137 2016-09-28     0.0   6.3  37.0  19.0\n",
            "11138 2016-09-29     0.7   5.3  37.5  22.0\n",
            "11139 2016-09-30     0.0   5.7  37.0  24.0\n"
          ],
          "name": "stdout"
        }
      ]
    },
    {
      "cell_type": "code",
      "metadata": {
        "colab": {
          "base_uri": "https://localhost:8080/"
        },
        "id": "VFi3JwbuIxPA",
        "outputId": "28cd85da-7701-41dd-d263-a81a9b1ec957"
      },
      "source": [
        "df_work2.info()"
      ],
      "execution_count": 35,
      "outputs": [
        {
          "output_type": "stream",
          "text": [
            "<class 'pandas.core.frame.DataFrame'>\n",
            "RangeIndex: 11140 entries, 0 to 11139\n",
            "Data columns (total 5 columns):\n",
            " #   Column  Non-Null Count  Dtype         \n",
            "---  ------  --------------  -----         \n",
            " 0   Fecha   11140 non-null  datetime64[ns]\n",
            " 1   Precip  11138 non-null  float64       \n",
            " 2   Evap    6550 non-null   float64       \n",
            " 3   Tmax    11128 non-null  float64       \n",
            " 4   Tmin    11128 non-null  float64       \n",
            "dtypes: datetime64[ns](1), float64(4)\n",
            "memory usage: 435.3 KB\n"
          ],
          "name": "stdout"
        }
      ]
    },
    {
      "cell_type": "code",
      "metadata": {
        "id": "jXsYOgtAIy8V"
      },
      "source": [
        ""
      ],
      "execution_count": null,
      "outputs": []
    }
  ]
}